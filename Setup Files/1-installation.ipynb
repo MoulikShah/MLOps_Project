{
 "cells": [
  {
   "cell_type": "code",
   "execution_count": 45,
   "id": "c2d73865-ea24-4d8c-98e2-83f6fb83e9bb",
   "metadata": {
    "tags": []
   },
   "outputs": [
    {
     "name": "stdout",
     "output_type": "stream",
     "text": [
      "clouds.yaml  installation.ipynb  LICENSE.txt  setup.ipynb  tf.ipynb\n"
     ]
    }
   ],
   "source": [
    "ls"
   ]
  },
  {
   "cell_type": "code",
   "execution_count": 46,
   "id": "7ac59eba-9be7-4ed6-9862-fb325db681d4",
   "metadata": {
    "tags": []
   },
   "outputs": [
    {
     "name": "stdout",
     "output_type": "stream",
     "text": [
      "Cloning into '/work/project_test/project'...\n",
      "remote: Enumerating objects: 289, done.\u001b[K\n",
      "remote: Counting objects: 100% (149/149), done.\u001b[K\n",
      "remote: Compressing objects: 100% (111/111), done.\u001b[K\n",
      "remote: Total 289 (delta 63), reused 84 (delta 27), pack-reused 140 (from 1)\u001b[K\n",
      "Receiving objects: 100% (289/289), 950.43 KiB | 1.70 MiB/s, done.\n",
      "Resolving deltas: 100% (105/105), done.\n",
      "Submodule 'Ansible/k8s/kubespray' (https://github.com/kubernetes-sigs/kubespray.git) registered for path 'Ansible/k8s/kubespray'\n",
      "Cloning into '/work/project_test/project/Ansible/k8s/kubespray'...\n",
      "remote: Enumerating objects: 81618, done.        \n",
      "remote: Counting objects: 100% (211/211), done.        \n",
      "remote: Compressing objects: 100% (125/125), done.        \n",
      "remote: Total 81618 (delta 147), reused 86 (delta 86), pack-reused 81407 (from 4)        \n",
      "Receiving objects: 100% (81618/81618), 26.27 MiB | 3.70 MiB/s, done.\n",
      "Resolving deltas: 100% (45668/45668), done.\n",
      "Submodule path 'Ansible/k8s/kubespray': checked out '71a323039fe1fe3e97a08aff5333ce2d4d73419d'\n"
     ]
    }
   ],
   "source": [
    "git clone --recurse-submodules https://github.com/MoulikShah/MLOps_Project.git /work/project_test/project"
   ]
  },
  {
   "cell_type": "code",
   "execution_count": 47,
   "id": "ba3c603f-dd40-4375-a574-f10320f5b88c",
   "metadata": {
    "tags": []
   },
   "outputs": [
    {
     "name": "stdout",
     "output_type": "stream",
     "text": [
      "--2025-05-08 17:24:01--  https://releases.hashicorp.com/terraform/1.10.5/terraform_1.10.5_linux_amd64.zip\n",
      "Resolving releases.hashicorp.com (releases.hashicorp.com)... 18.238.171.62, 18.238.171.101, 18.238.171.54, ...\n",
      "Connecting to releases.hashicorp.com (releases.hashicorp.com)|18.238.171.62|:443... connected.\n",
      "HTTP request sent, awaiting response... 200 OK\n",
      "Length: 27714924 (26M) [application/zip]\n",
      "Saving to: ‘terraform_1.10.5_linux_amd64.zip’\n",
      "\n",
      "terraform_1.10.5_li 100%[===================>]  26.43M  66.8MB/s    in 0.4s    \n",
      "\n",
      "2025-05-08 17:24:01 (66.8 MB/s) - ‘terraform_1.10.5_linux_amd64.zip’ saved [27714924/27714924]\n",
      "\n"
     ]
    }
   ],
   "source": [
    "mkdir -p /work/.local/bin\n",
    "wget https://releases.hashicorp.com/terraform/1.10.5/terraform_1.10.5_linux_amd64.zip\n",
    "unzip -o -q terraform_1.10.5_linux_amd64.zip\n",
    "mv terraform /work/.local/bin\n",
    "rm terraform_1.10.5_linux_amd64.zip"
   ]
  },
  {
   "cell_type": "code",
   "execution_count": 48,
   "id": "320b5bab-71fd-4a21-b648-bf2e6390165f",
   "metadata": {
    "tags": []
   },
   "outputs": [],
   "source": [
    "export PATH=/work/.local/bin:$PATH"
   ]
  },
  {
   "cell_type": "code",
   "execution_count": 49,
   "id": "09e8608a-24a9-46a2-9e4d-4e384b9e75ce",
   "metadata": {
    "tags": []
   },
   "outputs": [
    {
     "name": "stdout",
     "output_type": "stream",
     "text": [
      "Usage: terraform [global options] <subcommand> [args]\n",
      "\n",
      "The available commands for execution are listed below.\n",
      "The primary workflow commands are given first, followed by\n",
      "less common or more advanced commands.\n",
      "\n",
      "Main commands:\n",
      "  init          Prepare your working directory for other commands\n",
      "  validate      Check whether the configuration is valid\n",
      "  plan          Show changes required by the current configuration\n",
      "  apply         Create or update infrastructure\n",
      "  destroy       Destroy previously-created infrastructure\n",
      "\n",
      "All other commands:\n",
      "  console       Try Terraform expressions at an interactive command prompt\n",
      "  fmt           Reformat your configuration in the standard style\n",
      "  force-unlock  Release a stuck lock on the current workspace\n",
      "  get           Install or upgrade remote Terraform modules\n",
      "  graph         Generate a Graphviz graph of the steps in an operation\n",
      "  import        Associate existing infrastructure with a Terraform resource\n",
      "  login         Obtain and save credentials for a remote host\n",
      "  logout        Remove locally-stored credentials for a remote host\n",
      "  metadata      Metadata related commands\n",
      "  modules       Show all declared modules in a working directory\n",
      "  output        Show output values from your root module\n",
      "  providers     Show the providers required for this configuration\n",
      "  refresh       Update the state to match remote systems\n",
      "  show          Show the current state or a saved plan\n",
      "  state         Advanced state management\n",
      "  taint         Mark a resource instance as not fully functional\n",
      "  test          Execute integration tests for Terraform modules\n",
      "  untaint       Remove the 'tainted' state from a resource instance\n",
      "  version       Show the current Terraform version\n",
      "  workspace     Workspace management\n",
      "\n",
      "Global options (use these before the subcommand, if any):\n",
      "  -chdir=DIR    Switch to a different working directory before executing the\n",
      "                given subcommand.\n",
      "  -help         Show this help output, or the help for a specified subcommand.\n",
      "  -version      An alias for the \"version\" subcommand.\n"
     ]
    },
    {
     "ename": "",
     "evalue": "127",
     "output_type": "error",
     "traceback": []
    }
   ],
   "source": [
    "terraform"
   ]
  },
  {
   "cell_type": "code",
   "execution_count": 51,
   "id": "164439a9-b764-436e-b8fe-2719c15820f1",
   "metadata": {
    "tags": []
   },
   "outputs": [],
   "source": [
    "cp clouds.yaml /work/project_test/project/Terraform/clouds.yaml"
   ]
  },
  {
   "cell_type": "code",
   "execution_count": 52,
   "id": "752e656e-7e4a-41cf-aa79-9194d0eb43c3",
   "metadata": {
    "tags": []
   },
   "outputs": [
    {
     "name": "stdout",
     "output_type": "stream",
     "text": [
      "Collecting ansible-core==2.16.9\n",
      "  Using cached ansible_core-2.16.9-py3-none-any.whl (2.3 MB)\n",
      "Requirement already satisfied: ansible==9.8.0 in /work/.local/lib/python3.10/site-packages (9.8.0)\n",
      "Requirement already satisfied: cryptography in /work/.local/lib/python3.10/site-packages (from ansible-core==2.16.9) (44.0.2)\n",
      "Requirement already satisfied: resolvelib<1.1.0,>=0.5.3 in /work/.local/lib/python3.10/site-packages (from ansible-core==2.16.9) (1.0.1)\n",
      "Requirement already satisfied: packaging in /opt/conda/lib/python3.10/site-packages (from ansible-core==2.16.9) (23.0)\n",
      "Requirement already satisfied: PyYAML>=5.1 in /opt/conda/lib/python3.10/site-packages (from ansible-core==2.16.9) (5.3.1)\n",
      "Requirement already satisfied: jinja2>=3.0.0 in /opt/conda/lib/python3.10/site-packages (from ansible-core==2.16.9) (3.1.2)\n",
      "Requirement already satisfied: MarkupSafe>=2.0 in /opt/conda/lib/python3.10/site-packages (from jinja2>=3.0.0->ansible-core==2.16.9) (2.1.2)\n",
      "Requirement already satisfied: cffi>=1.12 in /opt/conda/lib/python3.10/site-packages (from cryptography->ansible-core==2.16.9) (1.15.1)\n",
      "Requirement already satisfied: pycparser in /opt/conda/lib/python3.10/site-packages (from cffi>=1.12->cryptography->ansible-core==2.16.9) (2.21)\n",
      "Installing collected packages: ansible-core\n",
      "  Attempting uninstall: ansible-core\n",
      "    Found existing installation: ansible-core 2.16.14\n",
      "    Uninstalling ansible-core-2.16.14:\n",
      "      Successfully uninstalled ansible-core-2.16.14\n",
      "Successfully installed ansible-core-2.16.9\n"
     ]
    }
   ],
   "source": [
    "PYTHONUSERBASE=/work/.local pip install --user ansible-core==2.16.9 ansible==9.8.0"
   ]
  },
  {
   "cell_type": "code",
   "execution_count": 53,
   "id": "f528194f-f5a6-4931-a42e-a0a2ce2768e2",
   "metadata": {
    "tags": []
   },
   "outputs": [],
   "source": [
    "export PATH=/work/.local/bin:$PATH\n",
    "export PYTHONUSERBASE=/work/.local"
   ]
  },
  {
   "cell_type": "code",
   "execution_count": 54,
   "id": "10201b6e-8b1c-4b9e-86a6-2a7e00faa240",
   "metadata": {
    "tags": []
   },
   "outputs": [
    {
     "name": "stdout",
     "output_type": "stream",
     "text": [
      "usage: ansible-playbook [-h] [--version] [-v] [--private-key PRIVATE_KEY_FILE]\n",
      "                        [-u REMOTE_USER] [-c CONNECTION] [-T TIMEOUT]\n",
      "                        [--ssh-common-args SSH_COMMON_ARGS]\n",
      "                        [--sftp-extra-args SFTP_EXTRA_ARGS]\n",
      "                        [--scp-extra-args SCP_EXTRA_ARGS]\n",
      "                        [--ssh-extra-args SSH_EXTRA_ARGS]\n",
      "                        [-k | --connection-password-file CONNECTION_PASSWORD_FILE]\n",
      "                        [--force-handlers] [--flush-cache] [-b]\n",
      "                        [--become-method BECOME_METHOD]\n",
      "                        [--become-user BECOME_USER]\n",
      "                        [-K | --become-password-file BECOME_PASSWORD_FILE]\n",
      "                        [-t TAGS] [--skip-tags SKIP_TAGS] [-C] [-D]\n",
      "                        [-i INVENTORY] [--list-hosts] [-l SUBSET]\n",
      "                        [-e EXTRA_VARS] [--vault-id VAULT_IDS]\n",
      "                        [-J | --vault-password-file VAULT_PASSWORD_FILES]\n",
      "                        [-f FORKS] [-M MODULE_PATH] [--syntax-check]\n",
      "                        [--list-tasks] [--list-tags] [--step]\n",
      "                        [--start-at-task START_AT_TASK]\n",
      "                        playbook [playbook ...]\n",
      "\n",
      "Runs Ansible playbooks, executing the defined tasks on the targeted hosts.\n",
      "\n",
      "positional arguments:\n",
      "  playbook              Playbook(s)\n",
      "\n",
      "options:\n",
      "  --become-password-file BECOME_PASSWORD_FILE, --become-pass-file BECOME_PASSWORD_FILE\n",
      "                        Become password file\n",
      "  --connection-password-file CONNECTION_PASSWORD_FILE, --conn-pass-file CONNECTION_PASSWORD_FILE\n",
      "                        Connection password file\n",
      "  --flush-cache         clear the fact cache for every host in inventory\n",
      "  --force-handlers      run handlers even if a task fails\n",
      "  --list-hosts          outputs a list of matching hosts; does not execute\n",
      "                        anything else\n",
      "  --list-tags           list all available tags\n",
      "  --list-tasks          list all tasks that would be executed\n",
      "  --skip-tags SKIP_TAGS\n",
      "                        only run plays and tasks whose tags do not match these\n",
      "                        values. This argument may be specified multiple times.\n",
      "  --start-at-task START_AT_TASK\n",
      "                        start the playbook at the task matching this name\n",
      "  --step                one-step-at-a-time: confirm each task before running\n",
      "  --syntax-check        perform a syntax check on the playbook, but do not\n",
      "                        execute it\n",
      "  --vault-id VAULT_IDS  the vault identity to use. This argument may be\n",
      "                        specified multiple times.\n",
      "  --vault-password-file VAULT_PASSWORD_FILES, --vault-pass-file VAULT_PASSWORD_FILES\n",
      "                        vault password file\n",
      "  --version             show program's version number, config file location,\n",
      "                        configured module search path, module location,\n",
      "                        executable location and exit\n",
      "  -C, --check           don't make any changes; instead, try to predict some\n",
      "                        of the changes that may occur\n",
      "  -D, --diff            when changing (small) files and templates, show the\n",
      "                        differences in those files; works great with --check\n",
      "  -J, --ask-vault-password, --ask-vault-pass\n",
      "                        ask for vault password\n",
      "  -K, --ask-become-pass\n",
      "                        ask for privilege escalation password\n",
      "  -M MODULE_PATH, --module-path MODULE_PATH\n",
      "                        prepend colon-separated path(s) to module library\n",
      "                        (default={{ ANSIBLE_HOME ~\n",
      "                        \"/plugins/modules:/usr/share/ansible/plugins/modules\"\n",
      "                        }}). This argument may be specified multiple times.\n",
      "  -e EXTRA_VARS, --extra-vars EXTRA_VARS\n",
      "                        set additional variables as key=value or YAML/JSON, if\n",
      "                        filename prepend with @. This argument may be\n",
      "                        specified multiple times.\n",
      "  -f FORKS, --forks FORKS\n",
      "                        specify number of parallel processes to use\n",
      "                        (default=5)\n",
      "  -h, --help            show this help message and exit\n",
      "  -i INVENTORY, --inventory INVENTORY, --inventory-file INVENTORY\n",
      "                        specify inventory host path or comma separated host\n",
      "                        list. --inventory-file is deprecated. This argument\n",
      "                        may be specified multiple times.\n",
      "  -k, --ask-pass        ask for connection password\n",
      "  -l SUBSET, --limit SUBSET\n",
      "                        further limit selected hosts to an additional pattern\n",
      "  -t TAGS, --tags TAGS  only run plays and tasks tagged with these values.\n",
      "                        This argument may be specified multiple times.\n",
      "  -v, --verbose         Causes Ansible to print more debug messages. Adding\n",
      "                        multiple -v will increase the verbosity, the builtin\n",
      "                        plugins currently evaluate up to -vvvvvv. A reasonable\n",
      "                        level to start is -vvv, connection debugging might\n",
      "                        require -vvvv. This argument may be specified multiple\n",
      "                        times.\n",
      "\n",
      "Connection Options:\n",
      "  control as whom and how to connect to hosts\n",
      "\n",
      "  --private-key PRIVATE_KEY_FILE, --key-file PRIVATE_KEY_FILE\n",
      "                        use this file to authenticate the connection\n",
      "  --scp-extra-args SCP_EXTRA_ARGS\n",
      "                        specify extra arguments to pass to scp only (e.g. -l)\n",
      "  --sftp-extra-args SFTP_EXTRA_ARGS\n",
      "                        specify extra arguments to pass to sftp only (e.g. -f,\n",
      "                        -l)\n",
      "  --ssh-common-args SSH_COMMON_ARGS\n",
      "                        specify common arguments to pass to sftp/scp/ssh (e.g.\n",
      "                        ProxyCommand)\n",
      "  --ssh-extra-args SSH_EXTRA_ARGS\n",
      "                        specify extra arguments to pass to ssh only (e.g. -R)\n",
      "  -T TIMEOUT, --timeout TIMEOUT\n",
      "                        override the connection timeout in seconds (default\n",
      "                        depends on connection)\n",
      "  -c CONNECTION, --connection CONNECTION\n",
      "                        connection type to use (default=ssh)\n",
      "  -u REMOTE_USER, --user REMOTE_USER\n",
      "                        connect as this user (default=None)\n",
      "\n",
      "Privilege Escalation Options:\n",
      "  control how and which user you become as on target hosts\n",
      "\n",
      "  --become-method BECOME_METHOD\n",
      "                        privilege escalation method to use (default=sudo), use\n",
      "                        `ansible-doc -t become -l` to list valid choices.\n",
      "  --become-user BECOME_USER\n",
      "                        run operations as this user (default=root)\n",
      "  -b, --become          run operations with become (does not imply password\n",
      "                        prompting)\n"
     ]
    }
   ],
   "source": [
    "ansible-playbook --help"
   ]
  },
  {
   "cell_type": "code",
   "execution_count": 56,
   "id": "aa51f082-d91b-4258-bbdd-a7b515412be5",
   "metadata": {
    "tags": []
   },
   "outputs": [],
   "source": [
    "cp ansible.cfg /work/project_test/project/Ansible/ansible.cfg"
   ]
  },
  {
   "cell_type": "code",
   "execution_count": 25,
   "id": "d0e6063b-1f63-4b8e-8e1c-fdf6292198ca",
   "metadata": {
    "tags": []
   },
   "outputs": [],
   "source": [
    "export PATH=/work/.local/bin:$PATH\n",
    "export PYTHONUSERBASE=/work/.local"
   ]
  },
  {
   "cell_type": "code",
   "execution_count": 37,
   "id": "0e4e12e1-b697-47ff-8d97-06a8398e28ac",
   "metadata": {
    "tags": []
   },
   "outputs": [
    {
     "name": "stdout",
     "output_type": "stream",
     "text": [
      "Collecting ansible==9.13.0\n",
      "  Using cached ansible-9.13.0-py3-none-any.whl (51.5 MB)\n",
      "Requirement already satisfied: cryptography==44.0.2 in /work/.local/lib/python3.10/site-packages (from -r /work/project_test/project/Ansible/k8s/kubespray/requirements.txt (line 3)) (44.0.2)\n",
      "Requirement already satisfied: jmespath==1.0.1 in /opt/conda/lib/python3.10/site-packages (from -r /work/project_test/project/Ansible/k8s/kubespray/requirements.txt (line 5)) (1.0.1)\n",
      "Requirement already satisfied: netaddr==1.3.0 in /opt/conda/lib/python3.10/site-packages (from -r /work/project_test/project/Ansible/k8s/kubespray/requirements.txt (line 7)) (1.3.0)\n",
      "Requirement already satisfied: ansible-core~=2.16.14 in /work/.local/lib/python3.10/site-packages (from ansible==9.13.0->-r /work/project_test/project/Ansible/k8s/kubespray/requirements.txt (line 1)) (2.16.14)\n",
      "Requirement already satisfied: cffi>=1.12 in /opt/conda/lib/python3.10/site-packages (from cryptography==44.0.2->-r /work/project_test/project/Ansible/k8s/kubespray/requirements.txt (line 3)) (1.15.1)\n",
      "Requirement already satisfied: resolvelib<1.1.0,>=0.5.3 in /work/.local/lib/python3.10/site-packages (from ansible-core~=2.16.14->ansible==9.13.0->-r /work/project_test/project/Ansible/k8s/kubespray/requirements.txt (line 1)) (1.0.1)\n",
      "Requirement already satisfied: packaging in /opt/conda/lib/python3.10/site-packages (from ansible-core~=2.16.14->ansible==9.13.0->-r /work/project_test/project/Ansible/k8s/kubespray/requirements.txt (line 1)) (23.0)\n",
      "Requirement already satisfied: jinja2>=3.0.0 in /opt/conda/lib/python3.10/site-packages (from ansible-core~=2.16.14->ansible==9.13.0->-r /work/project_test/project/Ansible/k8s/kubespray/requirements.txt (line 1)) (3.1.2)\n",
      "Requirement already satisfied: PyYAML>=5.1 in /opt/conda/lib/python3.10/site-packages (from ansible-core~=2.16.14->ansible==9.13.0->-r /work/project_test/project/Ansible/k8s/kubespray/requirements.txt (line 1)) (5.3.1)\n",
      "Requirement already satisfied: pycparser in /opt/conda/lib/python3.10/site-packages (from cffi>=1.12->cryptography==44.0.2->-r /work/project_test/project/Ansible/k8s/kubespray/requirements.txt (line 3)) (2.21)\n",
      "Requirement already satisfied: MarkupSafe>=2.0 in /opt/conda/lib/python3.10/site-packages (from jinja2>=3.0.0->ansible-core~=2.16.14->ansible==9.13.0->-r /work/project_test/project/Ansible/k8s/kubespray/requirements.txt (line 1)) (2.1.2)\n",
      "Installing collected packages: ansible\n",
      "  Attempting uninstall: ansible\n",
      "    Found existing installation: ansible 9.8.0\n",
      "    Uninstalling ansible-9.8.0:\n",
      "      Successfully uninstalled ansible-9.8.0\n",
      "  Rolling back uninstall of ansible\n",
      "  Moving to /work/.local/lib/python3.10/site-packages/ansible-9.8.0.dist-info/\n",
      "   from /work/.local/lib/python3.10/site-packages/~nsible-9.8.0.dist-info\n",
      "  Moving to /work/.local/lib/python3.10/site-packages/ansible_collections/\n",
      "   from /work/.local/lib/python3.10/site-packages/~nsible_collections\n",
      "ERROR: Could not install packages due to an OSError: [Errno 28] No space left on device: '/work/.local/lib/python3.10/site-packages/ansible_collections/vmware/vmware_rest/manual/source/vmware_rest_scenarios/vcenter/5_vm_hardware_tuning.rst'\n",
      "\n"
     ]
    },
    {
     "ename": "",
     "evalue": "1",
     "output_type": "error",
     "traceback": []
    }
   ],
   "source": [
    "PYTHONUSERBASE=/work/.local pip install --user -r /work/project_test/project/Ansible/k8s/kubespray/requirements.txt"
   ]
  }
 ],
 "metadata": {
  "kernelspec": {
   "display_name": "Bash",
   "language": "bash",
   "name": "bash"
  },
  "language_info": {
   "codemirror_mode": "shell",
   "file_extension": ".sh",
   "mimetype": "text/x-sh",
   "name": "bash"
  }
 },
 "nbformat": 4,
 "nbformat_minor": 5
}
