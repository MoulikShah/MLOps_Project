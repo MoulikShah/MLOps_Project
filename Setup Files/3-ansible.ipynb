{
 "cells": [
  {
   "cell_type": "code",
   "execution_count": 1,
   "id": "88bdf249-271d-41e4-87c7-7e21f5605033",
   "metadata": {
    "tags": []
   },
   "outputs": [],
   "source": [
    "export PATH=/work/.local/bin:$PATH\n",
    "export PYTHONUSERBASE=/work/.local"
   ]
  },
  {
   "cell_type": "code",
   "execution_count": 2,
   "id": "4926ce2e-7ebd-4076-b713-628645aa36e9",
   "metadata": {
    "tags": []
   },
   "outputs": [
    {
     "name": "stdout",
     "output_type": "stream",
     "text": [
      "[defaults]\n",
      "stdout_callback = yaml\n",
      "inventory = /work/project_test/project/Ansible/inventory.yamls\n",
      "\n",
      "[ssh_connection]\n",
      "ssh_args = -o StrictHostKeyChecking=off -o UserKnownHostsFile=/dev/null -o ForwardAgent=yes -o ProxyCommand=\"ssh -o StrictHostKeyChecking=no -o UserKnownHostsFile=/dev/null -W %h:%p cc@129.114.27.48\"\n"
     ]
    }
   ],
   "source": [
    "cat /work/project_test/project/Ansible/ansible.cfg"
   ]
  },
  {
   "cell_type": "code",
   "execution_count": 3,
   "id": "bec287d8-4194-40e4-9747-f02f0428a2ea",
   "metadata": {
    "tags": []
   },
   "outputs": [],
   "source": [
    "cd /work/project_test/project/Ansible"
   ]
  },
  {
   "cell_type": "code",
   "execution_count": 5,
   "id": "e85c942b-d625-4f8d-a4ce-1728b721d726",
   "metadata": {
    "tags": []
   },
   "outputs": [
    {
     "name": "stdout",
     "output_type": "stream",
     "text": [
      "node2 | SUCCESS => {\n",
      "    \"changed\": false,\n",
      "    \"ping\": \"pong\"\n",
      "}\n",
      "node1 | SUCCESS => {\n",
      "    \"changed\": false,\n",
      "    \"ping\": \"pong\"\n",
      "}\n",
      "node3 | SUCCESS => {\n",
      "    \"changed\": false,\n",
      "    \"ping\": \"pong\"\n",
      "}\n"
     ]
    }
   ],
   "source": [
    "ansible -i inventory.yml all -m ping"
   ]
  }
 ],
 "metadata": {
  "kernelspec": {
   "display_name": "Bash",
   "language": "bash",
   "name": "bash"
  },
  "language_info": {
   "codemirror_mode": "shell",
   "file_extension": ".sh",
   "mimetype": "text/x-sh",
   "name": "bash"
  }
 },
 "nbformat": 4,
 "nbformat_minor": 5
}
